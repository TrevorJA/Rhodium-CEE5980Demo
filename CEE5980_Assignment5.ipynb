{
 "cells": [
  {
   "cell_type": "markdown",
   "id": "e090feb9",
   "metadata": {},
   "source": [
    "This page demonstrates the current functionality of [Rhodium](https://github.com/Project-Platypus/Rhodium), a Python library for exploratory modelling and robust decision making. This demo is based off an example from the original Rhodium documentation by Dave Hadka."
   ]
  },
  {
   "cell_type": "markdown",
   "id": "c18282a7",
   "metadata": {},
   "source": [
    "## Load Rhodium Library\n",
    "Let's begin by importing the necessary libraries. We also adjust some plotting options to improve the appearance of plots in your web browser."
   ]
  },
  {
   "cell_type": "code",
   "execution_count": null,
   "id": "e96e7952",
   "metadata": {},
   "outputs": [],
   "source": [
    "## Install necessary packages (installed online not on your machine)\n",
    "## This will take a minute and will display a lot of text below. \n",
    "!pip install rhodium\n",
    "!pip install SALib\n",
    "!pip install ema_workbench\n",
    "!pip install seaborn"
   ]
  },
  {
   "cell_type": "code",
   "execution_count": null,
   "id": "bf4c0df8",
   "metadata": {},
   "outputs": [],
   "source": [
    "## Import packages that will be used in this demo\n",
    "# Numpy is used for basic vector math operations\n",
    "import numpy as np\n",
    "\n",
    "# Scipy is used to find roots of an equation in the model\n",
    "from scipy.optimize import brentq as root\n",
    "\n",
    "# Rhodium is the MOEA used for optimization and visualization\n",
    "from rhodium import *\n",
    "\n",
    "# plotting options\n",
    "%matplotlib inline\n",
    "%matplotlib notebook\n",
    "sns.set()\n",
    "sns.set_style('darkgrid')"
   ]
  },
  {
   "cell_type": "markdown",
   "id": "e7104341",
   "metadata": {},
   "source": [
    "## Defining the Model\n",
    "Next, we define our model. The model can be any Python function, with any number of input arguments. The names of the input arguments will become important later. The model can also return any number of outputs. For this example, we will use the lake problem. Recall that the flux of phosphorus into the lake is defined by the following differential equation:"
   ]
  },
  {
   "cell_type": "markdown",
   "id": "2ad6b608",
   "metadata": {},
   "source": [
    "![equilibrium.png](https://raw.githubusercontent.com/TrevorJA/Rhodium-CEE5980Demo/master/LakeProblemModel.png)"
   ]
  },
  {
   "cell_type": "code",
   "execution_count": 2,
   "id": "6a44d5c4",
   "metadata": {},
   "outputs": [],
   "source": [
    "\n",
    "### This function is the \"model\" which simulates the lake system\n",
    "\n",
    "def lake_problem(pollution_limit, # Lever, how much phosphorus can be emitted each year?\n",
    "         b = 0.42,        # decay rate for P in lake (0.42 = irreversible)\n",
    "         q = 2.0,         # recycling exponent\n",
    "         mean = 0.02,     # mean of natural inflows\n",
    "         stdev = 0.001,   # standard deviation of natural inflows\n",
    "         alpha = 0.4,     # utility from pollution\n",
    "         delta = 0.98,    # future utility discount rate\n",
    "         nsamples = 100): # monte carlo sampling of natural inflows)\n",
    "    \n",
    "    # Find the tipping points\n",
    "    Pcrit = root(lambda x: x**q/(1+x**q) - b*x, 0.01, 1.5)\n",
    "    \n",
    "    # create an array to store phosphorus in the lake at each timestep\n",
    "    nvars = len(pollution_limit)\n",
    "    X = np.zeros((nvars,))\n",
    "    \n",
    "    # initialize array to store ave phosphorus and reliability variables\n",
    "    average_daily_P = np.zeros((nvars,))\n",
    "    reliability = 0.0\n",
    "    \n",
    "    # create array to store anthropogenic emissions for each timestep\n",
    "    decisions = np.array(pollution_limit)\n",
    "\n",
    "    # monte carlo over nsamples\n",
    "    for _ in range(nsamples):\n",
    "        X[0] = 0.0\n",
    "        \n",
    "        # each monte carlo sample has a differnt set of natural inflows\n",
    "        natural_inflows = np.random.lognormal(\n",
    "                math.log(mean**2 / math.sqrt(stdev**2 + mean**2)),\n",
    "                math.sqrt(math.log(1.0 + stdev**2 / mean**2)),\n",
    "                size = nvars)\n",
    "        \n",
    "        # simulate system over 100 years\n",
    "        for t in range(1,nvars):\n",
    "            X[t] = (1-b)*X[t-1] + X[t-1]**q/(1+X[t-1]**q) + decisions[t-1] + natural_inflows[t-1]\n",
    "            average_daily_P[t] += X[t]/float(nsamples)\n",
    "    \n",
    "        # calculate objectives\n",
    "        reliability += np.sum(X < Pcrit)/float(nsamples*nvars)\n",
    "      \n",
    "    max_P = np.max(average_daily_P)\n",
    "    utility = np.sum(alpha*decisions*np.power(delta,np.arange(nvars)))\n",
    "    intertia = np.sum(np.diff(decisions) > -0.02)/float(nvars-1)\n",
    "    \n",
    "    return (max_P, utility, intertia, reliability)"
   ]
  },
  {
   "cell_type": "markdown",
   "id": "4f3d239d",
   "metadata": {},
   "source": [
    "Next, we define a Rhodium model. A Rhodium model provides additional annotations for the function above. In particular, we will identify all parameters (inputs) and responses (outputs) of interest. Note that each parameter specified must be an input to the lake problem function (above) but not all inputs to the function must be Rhodium parameters, only relevent uncertainties and levers should be coded as Rhodium model parmeters."
   ]
  },
  {
   "cell_type": "code",
   "execution_count": 3,
   "id": "42dfe1bf",
   "metadata": {},
   "outputs": [],
   "source": [
    "model = Model(lake_problem)\n",
    "\n",
    "model.parameters = [Parameter(\"pollution_limit\"),\n",
    "                    Parameter(\"b\"),\n",
    "                    Parameter(\"q\"),\n",
    "                    Parameter(\"mean\"),\n",
    "                    Parameter(\"stdev\"),\n",
    "                    Parameter(\"delta\")]\n",
    "\n",
    "model.responses = [Response(\"max_P\", Response.MINIMIZE),\n",
    "                   Response(\"utility\", Response.MAXIMIZE),\n",
    "                   Response(\"inertia\", Response.MAXIMIZE),\n",
    "                   Response(\"reliability\", Response.MAXIMIZE)]"
   ]
  },
  {
   "cell_type": "markdown",
   "id": "ff9dbfd4",
   "metadata": {},
   "source": [
    "Parameter names must match the argument name in the Python function. You can also define default values for parameters, but it will fall back to using any default values in the function definition. Responses identify the model outputs. In addition to providing a name for each response, you can also specify if the response is an objective to be minimized or maximized, or indicate the response is \"informational\" and should not be optimized.\n",
    "\n",
    "Rhodium also supports constraints. For example, we could define a constraint on reliability. Note how the constraint is a valid Python expression that can reference any parameter or response. You should in general try to keep each constraint simple, such as simple equality or inequality expressions, which will help improve the performance of the optimization algorithm."
   ]
  },
  {
   "cell_type": "code",
   "execution_count": 4,
   "id": "2172041d",
   "metadata": {},
   "outputs": [],
   "source": [
    "model.constraints = [Constraint(\"reliability >= 0.95\")]"
   ]
  },
  {
   "cell_type": "markdown",
   "id": "5a6ab85d",
   "metadata": {},
   "source": [
    "Or we could have an unconstrained problem, in which case we simply do not define any constraints:"
   ]
  },
  {
   "cell_type": "code",
   "execution_count": null,
   "id": "bb0b6b24",
   "metadata": {},
   "outputs": [],
   "source": [
    "model.constraints = []"
   ]
  },
  {
   "cell_type": "markdown",
   "id": "45ae865c",
   "metadata": {},
   "source": [
    "At this point, the model is ready for use with Rhodium.\n",
    "\n",
    "The following sections will illustrate the Many Objective Robust Decision Making (MORDM) framework applied to the lake problem.\n",
    "\n",
    "![MORDM.png](https://raw.githubusercontent.com/TrevorJA/Rhodium-CEE5980Demo/master/MORDM_framework.png)"
   ]
  },
  {
   "cell_type": "markdown",
   "id": "1e37ca12",
   "metadata": {},
   "source": [
    "## Optimizing the Model\n",
    "The first step in a MORDM analysis is to search for non-dominated decision alternatives. Rhodium will attempt the optimize the responses we defined subject to any constraints by tweaking levers. Levers are parameters that we can control when implementing a policy. For the lake problem, we are controlling the amount of pollution released yearly into the lake. Thus, we will define a lever for our `pollution_limit` parameter to be 100 values between 0.0 and 0.1."
   ]
  },
  {
   "cell_type": "code",
   "execution_count": null,
   "id": "3facf4bc",
   "metadata": {},
   "outputs": [],
   "source": [
    "model.levers = [RealLever(\"pollution_limit\", 0.0, 0.1, length=100)]"
   ]
  },
  {
   "cell_type": "markdown",
   "id": "e8a0cdb6",
   "metadata": {},
   "source": [
    "Next, we call `optimize` to optimize the problem. The optimization algorithm will iteratively adjust the levers while searching for an optimal policy. If more than one response is defined, such as in this example, then typically many Pareto optimal responses can be found. None of the identified Pareto optimal policies is better than any other; instead they form a tradeoff among the responses, some with better performance with respect to one or more responses but worse in others. Running the optimization below, we should find many optimal policies.\n",
    "\n",
    "The `optimize` function call takes 3 arguments: the simulation model, your MOEA of choice and the number of function evaluations to run. Here we will optimize the lake probem using the NSGAII algorithm over 1,000 function evaluations."
   ]
  },
  {
   "cell_type": "code",
   "execution_count": null,
   "id": "d2719c15",
   "metadata": {},
   "outputs": [],
   "source": [
    "output = optimize(model, \"NSGAII\", 1000)\n",
    "print(\"Found\", len(output), \"optimal policies!\")"
   ]
  },
  {
   "cell_type": "markdown",
   "id": "748101f5",
   "metadata": {},
   "source": [
    "The output is by default a dictionary. However, for some analyses, it can be useful to have this data in other formats, such as Pandas' DataFrame and Numpy's ndarray. Rhodium can also convert its data sets into these other formats:"
   ]
  },
  {
   "cell_type": "code",
   "execution_count": null,
   "id": "85450d7b",
   "metadata": {},
   "outputs": [],
   "source": [
    "# Save the output as a pandas dataframe\n",
    "df = output.as_dataframe()\n",
    "# Save the output as a numpy array\n",
    "arr = output.as_array()"
   ]
  },
  {
   "cell_type": "markdown",
   "id": "2b0d7b4a",
   "metadata": {},
   "source": [
    "Here, `output` is a Rhodium data set containing one or more optimal policies. We can reference specific policies by index, such as `output[5]`, or by searching for a policy with certain traits using the `find`, `find_min`, and `find_max` methods. For example:"
   ]
  },
  {
   "cell_type": "code",
   "execution_count": null,
   "id": "d2e057c4",
   "metadata": {},
   "outputs": [],
   "source": [
    "policy = output[5]\n",
    "policy = output.find_max(\"reliability\")\n",
    "policies = output.find(\"utility > 0.5\")"
   ]
  },
  {
   "cell_type": "markdown",
   "id": "ebac64fd",
   "metadata": {},
   "source": [
    "As demonstrated above, a Rhodium data set acts like a list with additional methods for querying data. Each entry (aka policy) within the dataset is a Python dictionary mapping keys to values. The key corresponds to the name of the parameter or response we defined in the model. For example, we can print information about a selected policy:"
   ]
  },
  {
   "cell_type": "code",
   "execution_count": null,
   "id": "a7280267",
   "metadata": {},
   "outputs": [],
   "source": [
    "policy = output.find_max(\"reliability\")\n",
    "\n",
    "print(\"Max Phosphorus in Lake:\", policy[\"max_P\"])\n",
    "print(\"Utility:               \", policy[\"utility\"])\n",
    "print(\"Inertia:               \", policy[\"inertia\"])\n",
    "print(\"Reliability:           \", policy[\"reliability\"])"
   ]
  },
  {
   "cell_type": "markdown",
   "id": "5d33b98e",
   "metadata": {},
   "source": [
    "We can also use the `apply` method to perform calculations on the data. The expression can reference any keys (the parameters and responses) that are defined in the policy."
   ]
  },
  {
   "cell_type": "code",
   "execution_count": null,
   "id": "308cb7bd",
   "metadata": {},
   "outputs": [],
   "source": [
    "result = output.apply(\"sum(pollution_limit)\")"
   ]
  },
  {
   "cell_type": "markdown",
   "id": "433ca664",
   "metadata": {},
   "source": [
    "Here, the `apply` method returns a list storing the sum of the yearly pollution limits for each policy. If we instead use an assignment in the expression, as shown below, we can calculate and add a new field to the dataset."
   ]
  },
  {
   "cell_type": "code",
   "execution_count": null,
   "id": "b495d16f",
   "metadata": {},
   "outputs": [],
   "source": [
    "output.apply(\"total_pollution = sum(pollution_limit)\");\n",
    "policy = output.find_min(\"total_pollution\")\n",
    "print(\"Total Pollution generated:         \", policy['total_pollution'])"
   ]
  },
  {
   "cell_type": "markdown",
   "id": "101c8498",
   "metadata": {},
   "source": [
    "## Visualizing Optimization Results\n",
    "While Rhodium provides many tools to manipulate, query, and explore the raw data, it is often more convenient to inspect the results visually. For example, here are the Pareto optimal policies in a 2D scatter plot:"
   ]
  },
  {
   "cell_type": "code",
   "execution_count": null,
   "id": "323c1d43",
   "metadata": {},
   "outputs": [],
   "source": [
    "%matplotlib inline\n",
    "fig = scatter2d(model, output, c='reliability', s='inertia')"
   ]
  },
  {
   "cell_type": "markdown",
   "id": "1e36f810",
   "metadata": {},
   "source": [
    "Rhodium by default assumes that it should plot the model responses. These responses are automatically plotted on the x, y, z (for 3D plots), color, and size axes. This can be customized.\n",
    "\n",
    "In the cells below, examine the optimization results across the discovered solutions. Try editing the colormaps you plot and changing the way the objectives are ordered.\n",
    "\n",
    "The following visualization types are available:\n",
    "- **2D Scatter Plot**: `scatter2d(model, output, c='objective3', cmap='RdBu' s='objective4)`\n",
    "\n",
    "- **3D Scatter Plot**: `scatter3d(model, output, c='objective4', cmap ='PuOr', s='objective1')`\n",
    "\n",
    "- **Parallel Coordinate Plot**: `parallel_coordinates(model, output, colormap=\"jet\", target=\"top\")`\n",
    "\n",
    "- **Pairwise Scatter Plot**: `pairs(model, output)`\n",
    "\n",
    "- **Kernel Density Contour Plot**: `kdeplot(model, output, x=\"objective1\", y=\"objective2\")`\n",
    "\n",
    "- **Joint Plot**: `joint(model, output, x=\"objective1\", y=\"objective2\")`"
   ]
  },
  {
   "cell_type": "code",
   "execution_count": null,
   "id": "70894e60",
   "metadata": {},
   "outputs": [],
   "source": [
    "fig = scatter3d(model, output, c='reliability', cmap='RdBu')"
   ]
  },
  {
   "cell_type": "code",
   "execution_count": null,
   "id": "cc10b522",
   "metadata": {},
   "outputs": [],
   "source": [
    "fig = parallel_coordinates(model, output, colormap = 'RdBu', target = 'top',\n",
    "                brush=[Brush(\"reliability > 0.2\"), Brush(\"reliability <= 0.2\")])"
   ]
  },
  {
   "cell_type": "code",
   "execution_count": null,
   "id": "aea42be0",
   "metadata": {},
   "outputs": [],
   "source": [
    "fig = scatter2d(model, output, x=\"reliability\", y=\"max_P\")"
   ]
  },
  {
   "cell_type": "markdown",
   "id": "49e2ca0e",
   "metadata": {},
   "source": [
    "Try plotting some of your own figures below:"
   ]
  },
  {
   "cell_type": "code",
   "execution_count": null,
   "id": "f4a36513",
   "metadata": {},
   "outputs": [],
   "source": [
    "fig = "
   ]
  },
  {
   "cell_type": "code",
   "execution_count": null,
   "id": "de5809fa",
   "metadata": {},
   "outputs": [],
   "source": [
    "fig = "
   ]
  },
  {
   "cell_type": "markdown",
   "id": "1c564e8f",
   "metadata": {},
   "source": [
    "It is also possible to group or classify policies together using brushing. Brushing in Rhodium uses Python expressions to match the policies of interest. When plotting with brushes, the points will be highlighted if they match the brush:"
   ]
  },
  {
   "cell_type": "code",
   "execution_count": null,
   "id": "d0c2790a",
   "metadata": {},
   "outputs": [],
   "source": [
    "fig = scatter2d(model, output,brush=[Brush(\"reliability > 0.2\"), Brush(\"reliability <= 0.2\")])"
   ]
  },
  {
   "cell_type": "markdown",
   "id": "294bb9da",
   "metadata": {},
   "source": [
    "Brushing includes several additional options, such as allowing additional control over the plotting (e.g., setting color or point size). It is possible to define more than one brush, any points not painted by a brush will appear as \"Unassigned\".\n",
    "\n",
    "As demonstrated above, brushing can be added to any of the available plotting tools, simply add the argument:\n",
    "\n",
    "`brush=[Brush(\"criteria > value\"), Brush(\"criteria <= value\")]`\n",
    "\n",
    "Try brushing the plots you made above to various criteria, ie. reliability>0.2 or utility <0.8."
   ]
  },
  {
   "cell_type": "code",
   "execution_count": null,
   "id": "04b60796",
   "metadata": {},
   "outputs": [],
   "source": [
    "fig = "
   ]
  },
  {
   "cell_type": "code",
   "execution_count": null,
   "id": "fa8b9de7",
   "metadata": {},
   "outputs": [],
   "source": [
    "fig = "
   ]
  },
  {
   "cell_type": "markdown",
   "id": "780aecdf",
   "metadata": {},
   "source": [
    "## Sensitivity Analysis\n",
    "Rhodium automates the task of performing global and regional sensitivity analysis on the model uncertainties. Rhodium provides a convenient wrapper on top of Python's [SALib](https://github.com/SALib/SALib/), allowing you to specify only the model, the response of interest, an optional policy you want to investigate, and details on the sensitivity analysis method.\n",
    "\n",
    "Using optimization, we leveraged an automated search procedure to identify optimal policies for our model. We can also manually explore different policies. Recall that a policy is simply a Python dictionary with keys mapping to our parameters. We can construct new policies by creating dictionaries with whatever parameters we wish to control. For example, here is a policy where we allow a yearly pollution level of 0.02:"
   ]
  },
  {
   "cell_type": "code",
   "execution_count": null,
   "id": "fb0d430d",
   "metadata": {},
   "outputs": [],
   "source": [
    "policy = {\"pollution_limit\" : [0.02]*100}"
   ]
  },
  {
   "cell_type": "markdown",
   "id": "794b1ec6",
   "metadata": {},
   "source": [
    "We can use the `evaluate` method to evaluate the policy and display the responses:"
   ]
  },
  {
   "cell_type": "code",
   "execution_count": null,
   "id": "1336a14b",
   "metadata": {},
   "outputs": [],
   "source": [
    "result = evaluate(model, policy)\n",
    "\n",
    "print(\"Max Phosphorus in Lake:\", result[\"max_P\"])\n",
    "print(\"Utility:               \", result[\"utility\"])\n",
    "print(\"Inertia:               \", result[\"inertia\"])\n",
    "print(\"Reliability:           \", result[\"reliability\"])"
   ]
  },
  {
   "attachments": {
    "uncertainties.png": {
     "image/png": "[encoded data removed]"
    }
   },
   "cell_type": "markdown",
   "id": "e7cf7fdd",
   "metadata": {},
   "source": [
    "The results in the cell above represent the policy's performance under an assumed set of model parameters. Sensitivity analysis allows us to quantify the effects of uncertainty within these parameters on model responses. To perform sensitivity Analysis, Rhodium must be told the uncertainties within the model and their bounds.\n",
    "![uncertainties.png](attachment:uncertainties.png)"
   ]
  },
  {
   "cell_type": "code",
   "execution_count": null,
   "id": "c54860b6",
   "metadata": {},
   "outputs": [],
   "source": [
    "model.uncertainties = [UniformUncertainty(\"b\", 0.1, 0.45),\n",
    "                       UniformUncertainty(\"q\", 2.0, 4.5),\n",
    "                       UniformUncertainty(\"mean\", 0.01, 0.05),\n",
    "                       UniformUncertainty(\"stdev\", 0.001, 0.005),\n",
    "                       UniformUncertainty(\"delta\", 0.93, 0.99)]"
   ]
  },
  {
   "cell_type": "markdown",
   "id": "191b8abb",
   "metadata": {},
   "source": [
    "We'll start our sensitivity analysis with the Method of Morris to identify the sensitive parameters with respect to reliability. The Method of Morris returns the elementary effects of each uncertain parameter in the model, a global measure of first order sensitivity."
   ]
  },
  {
   "cell_type": "code",
   "execution_count": null,
   "id": "6196f6d7",
   "metadata": {},
   "outputs": [],
   "source": [
    "result = sa(model, \"reliability\", policy=policy, method=\"morris\", nsamples=1000, num_levels=4, grid_jump=2)\n",
    "print(result)"
   ]
  },
  {
   "cell_type": "markdown",
   "id": "d4e67ee6",
   "metadata": {},
   "source": [
    "Parameters `b`, `q`, and `mean` exhibit the largest sensitivites. The method of Morris only analyzes the effects of parameters in isolation. To understand interactive effects between uncertainties, the Sobol method lets us also compute second-order and total-order indices, capturing the interactions between parameters:"
   ]
  },
  {
   "cell_type": "code",
   "execution_count": null,
   "id": "705dabf2",
   "metadata": {},
   "outputs": [],
   "source": [
    "result = sa(model, \"reliability\", policy=policy, method=\"sobol\", nsamples=1000)\n",
    "print(result)"
   ]
  },
  {
   "cell_type": "markdown",
   "id": "2ce3f115",
   "metadata": {},
   "source": [
    "Rhodium allows us to visualize the results from sensitivity analysis. Below we plot the first and total-order sensitivity indices for the Sobol method. Similar 2D bar plots can be shown for all other supported methods."
   ]
  },
  {
   "cell_type": "code",
   "execution_count": null,
   "id": "a183dc18",
   "metadata": {},
   "outputs": [],
   "source": [
    "fig = result.plot()"
   ]
  },
  {
   "cell_type": "markdown",
   "id": "d15c177c",
   "metadata": {},
   "source": [
    "If using Sobol's method, we can also generate a \"spider\" or \"radial\" plot showing the second-order indices. In the figure below, the first and total-order indices for each parameter are indicated by the solid circle and the outer ring, respectively, where a larger radius indicates larger effects. The gray lines connecting the circles represents the second-order indices, with thicker lines corresponding to larger second-order effects."
   ]
  },
  {
   "cell_type": "code",
   "execution_count": null,
   "id": "4132de0e",
   "metadata": {},
   "outputs": [],
   "source": [
    "fig = result.plot_sobol(threshold=0.01)"
   ]
  },
  {
   "cell_type": "markdown",
   "id": "aefc9083",
   "metadata": {},
   "source": [
    "If you have a plot with a large number of parameters, it can be useful to visually group similar parameters. For example:"
   ]
  },
  {
   "cell_type": "code",
   "execution_count": null,
   "id": "2090df5d",
   "metadata": {},
   "outputs": [],
   "source": [
    "fig = result.plot_sobol(threshold=0.01,\n",
    "                        groups={\"Lake Parameters\" : [\"b\", \"q\"],\n",
    "                                \"Natural Pollution\" : [\"mean\", \"stdev\"],\n",
    "                                \"Discounting\" : [\"delta\"]})\n"
   ]
  },
  {
   "cell_type": "markdown",
   "id": "6a70fd24",
   "metadata": {},
   "source": [
    "The global sensitivity analysis demonstrated above is useful for identifying the key parameters and their interactions. To understand what values of our parameters cause changes in performance, we can use one-at-a-time (OAT) or regional sensitivity analysis to explore each parameter in detail. In OAT sensitivity analysis, we fix all parameters at their default value except one. For this one parameter, we then sample across its entire range and observe how the response of interest changes."
   ]
  },
  {
   "cell_type": "code",
   "execution_count": null,
   "id": "533735a9",
   "metadata": {},
   "outputs": [],
   "source": [
    "fig = oat(model, \"reliability\", policy=policy, nsamples=1000)"
   ]
  },
  {
   "cell_type": "markdown",
   "id": "4eca94c0",
   "metadata": {},
   "source": [
    "The plot above shows on the left the percentage of total variance caused by each parameter. We see that `b` and `q` contribute most to the variance. On the right we see a line plot showing how the response of interest (reliability) changes as the sampled parameter changes. Take `b`, for example, shown in blue. `b` approches 100% reliability as its value increases. On the other hand, the mean level of pollution, `mean`, causes a substantial reduction in reliability as the value increases.\n",
    "\n",
    "You may have also noticed that `q` has no effect here, contrary to what we saw from global sensitivity analysis. Recall that OAT sensitivity analysis fixes all but one parameter at their default value. This indicates that `q` has little to no effect when the other parameters are fixed at their default. But since we observed large sensitivites from `q` from global sensitivity analysis, one would expect `q` would become more significant if the other parameters deviate from their default.\n",
    "\n",
    "In the cells below, complete the functions to perform sensitivity analysis on a different objective. Do sensitivities change?"
   ]
  },
  {
   "cell_type": "code",
   "execution_count": null,
   "id": "d9125ac7",
   "metadata": {},
   "outputs": [],
   "source": [
    "result = sa()"
   ]
  },
  {
   "cell_type": "code",
   "execution_count": null,
   "id": "87303664",
   "metadata": {},
   "outputs": [],
   "source": [
    "fig = result.plot()"
   ]
  },
  {
   "cell_type": "markdown",
   "id": "966605fa",
   "metadata": {},
   "source": [
    "## Scenario Discovery\n",
    "We can also use Rhodium for exploratory analysis and scenario discovery. To this end we will evaluate the performance of our simple policy created above over a large sample of plausible States Of the World (SOW). Each SOW represents some combination of the uncertainty parameters. Here, we generate 1000 SOWs via Latin Hypercube Sampling (LHS):"
   ]
  },
  {
   "cell_type": "code",
   "execution_count": null,
   "id": "c82f0748",
   "metadata": {},
   "outputs": [],
   "source": [
    "# these are the same uncertainties as above, just repeating for clarity\n",
    "model.uncertainties = [UniformUncertainty(\"b\", 0.1, 0.45),\n",
    "                       UniformUncertainty(\"q\", 2.0, 4.5),\n",
    "                       UniformUncertainty(\"mean\", 0.01, 0.05),\n",
    "                       UniformUncertainty(\"stdev\", 0.001, 0.005),\n",
    "                       UniformUncertainty(\"delta\", 0.93, 0.99)]\n",
    "\n",
    "SOWs = sample_lhs(model, 1000)"
   ]
  },
  {
   "cell_type": "markdown",
   "id": "7c3ca3da",
   "metadata": {},
   "source": [
    "Then, using the `evaluate` method, we evaluate our policy in each SOW. To do this, we need to combine our SOWs with our fixed policy. Using the update function, we update each SOW with the parameters defined in our policy, namely the fixed `pollution_limit` we specified previously."
   ]
  },
  {
   "cell_type": "code",
   "execution_count": null,
   "id": "ec455e47",
   "metadata": {},
   "outputs": [],
   "source": [
    "results = evaluate(model, update(SOWs, policy))"
   ]
  },
  {
   "cell_type": "markdown",
   "id": "bd8ae0a0",
   "metadata": {},
   "source": [
    "It can be cumbersome to explore the results from the 1000 SOWs separately. Instead, let's assume we are really only interested in SOWs where our policy achieved a reliability of 90% or greater (conversely, we could be interested in SOWs where our system failed with poor reliability). We \"classify\" each SOW as \"Reliable\" or \"Unreliable\":"
   ]
  },
  {
   "cell_type": "code",
   "execution_count": null,
   "id": "c454a021",
   "metadata": {},
   "outputs": [],
   "source": [
    "classification = results.apply(\"'Reliable' if reliability > 0.9 else 'Unreliable'\")"
   ]
  },
  {
   "cell_type": "markdown",
   "id": "e173c99c",
   "metadata": {},
   "source": [
    "Now we will use the [Patient Rule Induction Method (PRIM)](https://github.com/Project-Platypus/PRIM) to identify the key uncertainties that cause a SOW to fall within either class. This process is termed \"scenario discovery\". PRIM works by restricting the dimensions (bounds) for each uncertainty that contains the SOWs of interest. We refer to these restrictions as a \"box\".\n",
    "\n",
    "PRIM is an iterative process. We call `find_box()` followed by `box.show_tradeoff()` to display visually the dimension restrictions in terms of two metrics: coverage and density. Coverage measures the percentage of cases of interest contained within the box and density considers the percentage of cases within the box that are of interest. Having a coverage and density of 100% is ideal. Note we provide the `coi` argument to indicate we are interested in solutions classified as \"Reliable\"."
   ]
  },
  {
   "cell_type": "code",
   "execution_count": null,
   "id": "9f341b4c",
   "metadata": {},
   "outputs": [],
   "source": [
    "p = Prim(results, classification, include=model.uncertainties.keys(), coi=\"Reliable\")\n",
    "box = p.find_box()\n",
    "fig = box.show_tradeoff()"
   ]
  },
  {
   "cell_type": "markdown",
   "id": "42f997ab",
   "metadata": {},
   "source": [
    "Each point in the above plot represents a sequence of restrictions on the dimensions (a peeling trajectory). Typically, as we restrict each dimension further, we improve density but reduce coverage. We can view the details on a specific peeling trajectory by first selecting the i-th trajectory with `box.select(i)` and running:"
   ]
  },
  {
   "cell_type": "code",
   "execution_count": null,
   "id": "13e24d29",
   "metadata": {},
   "outputs": [],
   "source": [
    "print(box)"
   ]
  },
  {
   "cell_type": "markdown",
   "id": "546aca8c",
   "metadata": {},
   "source": [
    "If you're running this example directly from Python, you can also run `box.show_details()` to produce a nicely formatted visual display of the box limits, the covered SOWs, and the box statistics. See [here](https://github.com/Project-Platypus/PRIM/blob/master/docs/images/screenshot2.png) for an example.\n",
    "\n",
    "Classification and Regression Trees (CART) is an alternative method for scenario discovery. Unlike PRIM, which produces a single box containing the cases of interest, CART can form disjoint partitions of the dataset. As such, it tends to offer better classification rates at the expensive of interpretability (the partitions can become complex and difficult to understand).\n",
    "\n",
    "Note: If you have a mac you may have an issue viewing the CART Tree, see [this link](https://github.com/davidfgold/Rhodium/blob/master/INSTALL.md#troubleshooting) for troubleshooting. CART has still run, but there is a versioning issue with the visualization on Macs."
   ]
  },
  {
   "cell_type": "code",
   "execution_count": null,
   "id": "24ae7293",
   "metadata": {},
   "outputs": [],
   "source": [
    "c = Cart(results, classification, include=model.uncertainties.keys(), min_samples_leaf=50)"
   ]
  },
  {
   "cell_type": "markdown",
   "id": "cb2c49f4",
   "metadata": {},
   "source": [
    "The graphic above shows each recursive partition identified by CART, color-coded by their classification. We can also print the contents of the tree. If the case of interest (`coi`) is specified, then it prints only those nodes with the given class, letting you compare the density and coverage of a node (including intermediate nodes) as we did with PRIM. It also prettifies the rules as shown below."
   ]
  },
  {
   "cell_type": "code",
   "execution_count": null,
   "id": "c8121ae1",
   "metadata": {},
   "outputs": [],
   "source": [
    "c.print_tree(coi=\"Reliable\")"
   ]
  },
  {
   "cell_type": "markdown",
   "id": "053f6623",
   "metadata": {},
   "source": [
    "## Conclusion\n",
    "Rhodium is a powerful tool for analyzing and exploring a model. We demonstrated connecting Rhodium to the Lake Problem model written in Python. Rhodium also supports tools for connecting to models written natively (and compiled into a dynamically-linked library or shared object), Excel models, and more. Please visit our [GitHub page](https://github.com/Project-Platypus/Rhodium) to learn more, see the [examples](https://github.com/davidfgold/Rhodium/tree/master/examples) section for further demonstration of Rhodium."
   ]
  }
 ],
 "metadata": {
  "kernelspec": {
   "display_name": "Python 3",
   "language": "python",
   "name": "python3"
  },
  "language_info": {
   "codemirror_mode": {
    "name": "ipython",
    "version": 3
   },
   "file_extension": ".py",
   "mimetype": "text/x-python",
   "name": "python",
   "nbconvert_exporter": "python",
   "pygments_lexer": "ipython3",
   "version": "3.9.12"
  }
 },
 "nbformat": 4,
 "nbformat_minor": 5
}
